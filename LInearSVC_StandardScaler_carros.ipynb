{
 "cells": [
  {
   "cell_type": "code",
   "execution_count": 1,
   "metadata": {},
   "outputs": [],
   "source": [
    "import pandas as pd\n",
    "import numpy as np\n",
    "import seaborn as sns\n",
    "import matplotlib.pyplot as plt\n",
    "from datetime import datetime"
   ]
  },
  {
   "cell_type": "markdown",
   "metadata": {},
   "source": [
    " Nesse notebook iremos trabalhar com banco de dados fictício de um site de venda de carros, com as seguites informações :\n",
    "  - quantidade de milhas rodadas por ano \n",
    "  - ano de cada modelo\n",
    "  - preço de cada carro\n",
    "  - se o carro foi vendido ou não\n",
    "  \n",
    "  \n",
    " Objetivo: Levando em consideração as características do carro, como ano de fabricação, quantidade de quilometros rodados e preço de venda, devemos encontrar o melhor algoritmo de clasificação que possa dizer se o carro vai ser vendido ou não."
   ]
  },
  {
   "cell_type": "code",
   "execution_count": 2,
   "metadata": {},
   "outputs": [],
   "source": [
    "url = 'https://gist.githubusercontent.com/guilhermesilveira/4d1d4a16ccbf6ea4e0a64a38a24ec884/raw/afd05cb0c796d18f3f5a6537053ded308ba94bf7/car-prices.csv'\n",
    "dados = pd.read_csv(url, sep =',')"
   ]
  },
  {
   "cell_type": "code",
   "execution_count": 3,
   "metadata": {},
   "outputs": [
    {
     "data": {
      "text/html": [
       "<div>\n",
       "<style scoped>\n",
       "    .dataframe tbody tr th:only-of-type {\n",
       "        vertical-align: middle;\n",
       "    }\n",
       "\n",
       "    .dataframe tbody tr th {\n",
       "        vertical-align: top;\n",
       "    }\n",
       "\n",
       "    .dataframe thead th {\n",
       "        text-align: right;\n",
       "    }\n",
       "</style>\n",
       "<table border=\"1\" class=\"dataframe\">\n",
       "  <thead>\n",
       "    <tr style=\"text-align: right;\">\n",
       "      <th></th>\n",
       "      <th>Unnamed: 0</th>\n",
       "      <th>mileage_per_year</th>\n",
       "      <th>model_year</th>\n",
       "      <th>price</th>\n",
       "      <th>sold</th>\n",
       "    </tr>\n",
       "  </thead>\n",
       "  <tbody>\n",
       "    <tr>\n",
       "      <th>0</th>\n",
       "      <td>0</td>\n",
       "      <td>21801</td>\n",
       "      <td>2000</td>\n",
       "      <td>30941.02</td>\n",
       "      <td>yes</td>\n",
       "    </tr>\n",
       "    <tr>\n",
       "      <th>1</th>\n",
       "      <td>1</td>\n",
       "      <td>7843</td>\n",
       "      <td>1998</td>\n",
       "      <td>40557.96</td>\n",
       "      <td>yes</td>\n",
       "    </tr>\n",
       "    <tr>\n",
       "      <th>2</th>\n",
       "      <td>2</td>\n",
       "      <td>7109</td>\n",
       "      <td>2006</td>\n",
       "      <td>89627.50</td>\n",
       "      <td>no</td>\n",
       "    </tr>\n",
       "    <tr>\n",
       "      <th>3</th>\n",
       "      <td>3</td>\n",
       "      <td>26823</td>\n",
       "      <td>2015</td>\n",
       "      <td>95276.14</td>\n",
       "      <td>no</td>\n",
       "    </tr>\n",
       "    <tr>\n",
       "      <th>4</th>\n",
       "      <td>4</td>\n",
       "      <td>7935</td>\n",
       "      <td>2014</td>\n",
       "      <td>117384.68</td>\n",
       "      <td>yes</td>\n",
       "    </tr>\n",
       "  </tbody>\n",
       "</table>\n",
       "</div>"
      ],
      "text/plain": [
       "   Unnamed: 0  mileage_per_year  model_year      price sold\n",
       "0           0             21801        2000   30941.02  yes\n",
       "1           1              7843        1998   40557.96  yes\n",
       "2           2              7109        2006   89627.50   no\n",
       "3           3             26823        2015   95276.14   no\n",
       "4           4              7935        2014  117384.68  yes"
      ]
     },
     "execution_count": 3,
     "metadata": {},
     "output_type": "execute_result"
    }
   ],
   "source": [
    "dados.head()"
   ]
  },
  {
   "cell_type": "markdown",
   "metadata": {},
   "source": [
    " - Renomenado ass colunas"
   ]
  },
  {
   "cell_type": "code",
   "execution_count": 4,
   "metadata": {},
   "outputs": [],
   "source": [
    "new_colunas = {\n",
    "    'mileage_per_year':'milhas_por_ano',\n",
    "    'model_year' : 'ano_do_modelo',\n",
    "    'sold' : 'vendido',\n",
    "    'price': 'preco'\n",
    "}\n",
    "\n",
    "dados = dados.rename(columns = new_colunas)"
   ]
  },
  {
   "cell_type": "markdown",
   "metadata": {},
   "source": [
    " - Substituindo os valores da coluna vendido por variáveis numéricas."
   ]
  },
  {
   "cell_type": "code",
   "execution_count": 5,
   "metadata": {},
   "outputs": [],
   "source": [
    "vendido = {\n",
    "    'no':0,\n",
    "    'yes':1\n",
    "}\n",
    "\n",
    "dados['vendido']= dados.vendido.map(vendido)"
   ]
  },
  {
   "cell_type": "markdown",
   "metadata": {},
   "source": [
    " - Criando 2 novas colunas - Idade_do_modelo e Km_por_ano ."
   ]
  },
  {
   "cell_type": "code",
   "execution_count": 6,
   "metadata": {},
   "outputs": [],
   "source": [
    "ano_atual = datetime.today().year\n",
    "dados['idade_do_modelo'] = ano_atual - dados.ano_do_modelo"
   ]
  },
  {
   "cell_type": "code",
   "execution_count": 7,
   "metadata": {},
   "outputs": [],
   "source": [
    "# convertendo milhas para km\n",
    "\n",
    "dados['km_por_ano'] = dados.milhas_por_ano * 1.60934"
   ]
  },
  {
   "cell_type": "code",
   "execution_count": 8,
   "metadata": {},
   "outputs": [],
   "source": [
    "dados = dados.drop(columns = ['Unnamed: 0','milhas_por_ano','ano_do_modelo'] , axis = 1)"
   ]
  },
  {
   "cell_type": "markdown",
   "metadata": {},
   "source": [
    " - Reordenando as colunas ."
   ]
  },
  {
   "cell_type": "code",
   "execution_count": 14,
   "metadata": {},
   "outputs": [],
   "source": [
    "lista_cols = ['idade_do_modelo', 'km_por_ano','preco', 'vendido']\n",
    "dados = dados[lista_cols]"
   ]
  },
  {
   "cell_type": "code",
   "execution_count": 15,
   "metadata": {},
   "outputs": [
    {
     "data": {
      "text/html": [
       "<div>\n",
       "<style scoped>\n",
       "    .dataframe tbody tr th:only-of-type {\n",
       "        vertical-align: middle;\n",
       "    }\n",
       "\n",
       "    .dataframe tbody tr th {\n",
       "        vertical-align: top;\n",
       "    }\n",
       "\n",
       "    .dataframe thead th {\n",
       "        text-align: right;\n",
       "    }\n",
       "</style>\n",
       "<table border=\"1\" class=\"dataframe\">\n",
       "  <thead>\n",
       "    <tr style=\"text-align: right;\">\n",
       "      <th></th>\n",
       "      <th>idade_do_modelo</th>\n",
       "      <th>km_por_ano</th>\n",
       "      <th>preco</th>\n",
       "      <th>vendido</th>\n",
       "    </tr>\n",
       "  </thead>\n",
       "  <tbody>\n",
       "    <tr>\n",
       "      <th>0</th>\n",
       "      <td>21</td>\n",
       "      <td>35085.22134</td>\n",
       "      <td>30941.02</td>\n",
       "      <td>1</td>\n",
       "    </tr>\n",
       "    <tr>\n",
       "      <th>1</th>\n",
       "      <td>23</td>\n",
       "      <td>12622.05362</td>\n",
       "      <td>40557.96</td>\n",
       "      <td>1</td>\n",
       "    </tr>\n",
       "    <tr>\n",
       "      <th>2</th>\n",
       "      <td>15</td>\n",
       "      <td>11440.79806</td>\n",
       "      <td>89627.50</td>\n",
       "      <td>0</td>\n",
       "    </tr>\n",
       "    <tr>\n",
       "      <th>3</th>\n",
       "      <td>6</td>\n",
       "      <td>43167.32682</td>\n",
       "      <td>95276.14</td>\n",
       "      <td>0</td>\n",
       "    </tr>\n",
       "    <tr>\n",
       "      <th>4</th>\n",
       "      <td>7</td>\n",
       "      <td>12770.11290</td>\n",
       "      <td>117384.68</td>\n",
       "      <td>1</td>\n",
       "    </tr>\n",
       "  </tbody>\n",
       "</table>\n",
       "</div>"
      ],
      "text/plain": [
       "   idade_do_modelo   km_por_ano      preco  vendido\n",
       "0               21  35085.22134   30941.02        1\n",
       "1               23  12622.05362   40557.96        1\n",
       "2               15  11440.79806   89627.50        0\n",
       "3                6  43167.32682   95276.14        0\n",
       "4                7  12770.11290  117384.68        1"
      ]
     },
     "execution_count": 15,
     "metadata": {},
     "output_type": "execute_result"
    }
   ],
   "source": [
    "dados.head()"
   ]
  },
  {
   "cell_type": "markdown",
   "metadata": {},
   "source": [
    "### Machine learning"
   ]
  },
  {
   "cell_type": "markdown",
   "metadata": {},
   "source": [
    " - Separando os dados em x e y"
   ]
  },
  {
   "cell_type": "code",
   "execution_count": 16,
   "metadata": {},
   "outputs": [],
   "source": [
    "x = dados.drop('vendido', axis = 1)\n",
    "y = dados['vendido']"
   ]
  },
  {
   "cell_type": "markdown",
   "metadata": {},
   "source": [
    " - Separando as amostras de treino e teste e aplicando o algoritmo de machine learning LinearSVC"
   ]
  },
  {
   "cell_type": "code",
   "execution_count": 43,
   "metadata": {},
   "outputs": [
    {
     "name": "stdout",
     "output_type": "stream",
     "text": [
      " Treinamos com 7500 elementos e testamos com 2500 elementos\n",
      "A acurácia foi 58.00%\n"
     ]
    },
    {
     "name": "stderr",
     "output_type": "stream",
     "text": [
      "C:\\Users\\Biena\\anaconda3\\lib\\site-packages\\sklearn\\svm\\_base.py:976: ConvergenceWarning: Liblinear failed to converge, increase the number of iterations.\n",
      "  warnings.warn(\"Liblinear failed to converge, increase \"\n"
     ]
    }
   ],
   "source": [
    "from sklearn.model_selection import train_test_split\n",
    "from sklearn.svm import LinearSVC\n",
    "from sklearn.metrics import accuracy_score\n",
    "\n",
    "SEED = 5\n",
    "np.random.seed(SEED)\n",
    "x_treino, x_teste , y_treino, y_teste = train_test_split(x, y, test_size = 0.25, stratify = y)\n",
    "print( ' Treinamos com %d elementos e testamos com %d elementos' % (len(x_treino), len(x_teste)))\n",
    "\n",
    "modelo = LinearSVC()\n",
    "modelo.fit(x_treino, y_treino)\n",
    "y_pred = modelo.predict(x_teste)\n",
    "\n",
    "acuracia = accuracy_score(y_teste, y_pred) * 100\n",
    "print('A acurácia foi %.2f%%' % acuracia)"
   ]
  },
  {
   "cell_type": "markdown",
   "metadata": {},
   "source": [
    " - Separando as amostras de treino e teste e aplicando o algoritmo de machine learning DummyClassifier"
   ]
  },
  {
   "cell_type": "code",
   "execution_count": 44,
   "metadata": {},
   "outputs": [
    {
     "name": "stdout",
     "output_type": "stream",
     "text": [
      "A acurácia do dummy stratified foi 52.44%\n"
     ]
    }
   ],
   "source": [
    "# pegando DummyClassifier como baseline \n",
    "\n",
    "from sklearn.dummy import DummyClassifier\n",
    "\n",
    "dummy_stratified = DummyClassifier(strategy=\"stratified\")\n",
    "dummy_stratified.fit(x_treino, y_treino)\n",
    "acuracia = dummy_stratified.score(x_teste, y_teste) * 100\n",
    "\n",
    "print('A acurácia do dummy stratified foi %.2f%%' % acuracia)"
   ]
  },
  {
   "cell_type": "code",
   "execution_count": 45,
   "metadata": {},
   "outputs": [
    {
     "name": "stdout",
     "output_type": "stream",
     "text": [
      "A acurácia do dummy most frequent foi 58.00%\n"
     ]
    }
   ],
   "source": [
    "from sklearn.dummy import DummyClassifier\n",
    "\n",
    "dummy_most_frequent = DummyClassifier(strategy=\"most_frequent\")\n",
    "dummy_most_frequent.fit(x_treino, y_treino)\n",
    "acuracia = dummy_most_frequent.score(x_teste, y_teste) * 100\n",
    "\n",
    "print('A acurácia do dummy most frequent foi %.2f%%' % acuracia)"
   ]
  },
  {
   "cell_type": "markdown",
   "metadata": {},
   "source": [
    " ## Reescalando os dados utilizando o StandardScaler()"
   ]
  },
  {
   "cell_type": "code",
   "execution_count": 46,
   "metadata": {},
   "outputs": [
    {
     "name": "stdout",
     "output_type": "stream",
     "text": [
      "Treinaremos com 7500 elementos e testaremos com 2500 elementos\n",
      "A acurácia foi 77.48%\n"
     ]
    }
   ],
   "source": [
    "from sklearn.preprocessing import StandardScaler\n",
    "from sklearn.model_selection import train_test_split\n",
    "from sklearn.svm import SVC\n",
    "\n",
    "\n",
    "SEED = 5\n",
    "np.random.seed(SEED)\n",
    "raw_x_treino, raw_x_teste, y_treino, y_teste = train_test_split(x, y, test_size = 0.25,\n",
    "                                                         stratify = y)\n",
    "\n",
    "print(\"Treinaremos com %d elementos e testaremos com %d elementos\" % (len(x_treino), len(x_teste)))\n",
    "\n",
    "scaler = StandardScaler()\n",
    "scaler.fit(raw_x_treino)\n",
    "x_treino = scaler.transform(raw_x_treino)\n",
    "x_teste = scaler.transform(raw_x_teste)\n",
    "\n",
    "modelo = SVC()\n",
    "modelo.fit(x_treino, y_treino)\n",
    "previsoes = modelo.predict(x_teste)\n",
    "acuracia = accuracy_score(y_teste, previsoes) * 100\n",
    "print(\"A acurácia foi %.2f%%\" % acuracia)"
   ]
  },
  {
   "cell_type": "code",
   "execution_count": null,
   "metadata": {},
   "outputs": [],
   "source": []
  }
 ],
 "metadata": {
  "kernelspec": {
   "display_name": "Python 3",
   "language": "python",
   "name": "python3"
  },
  "language_info": {
   "codemirror_mode": {
    "name": "ipython",
    "version": 3
   },
   "file_extension": ".py",
   "mimetype": "text/x-python",
   "name": "python",
   "nbconvert_exporter": "python",
   "pygments_lexer": "ipython3",
   "version": "3.8.3"
  }
 },
 "nbformat": 4,
 "nbformat_minor": 4
}
